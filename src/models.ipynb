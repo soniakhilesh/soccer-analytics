{
 "cells": [
  {
   "cell_type": "code",
   "execution_count": 56,
   "metadata": {},
   "outputs": [],
   "source": [
    "import pandas as pd\n",
    "from sklearn.model_selection import train_test_split\n",
    "from sklearn.model_selection import GridSearchCV\n",
    "from sklearn.svm import SVC\n",
    "import time\n",
    "from sklearn.metrics import roc_curve, auc\n",
    "from sklearn.linear_model import LogisticRegression\n",
    "from sklearn.multiclass import OneVsRestClassifier\n",
    "from sklearn.decomposition import PCA\n",
    "import matplotlib.pyplot as plt\n",
    "import numpy as np"
   ]
  },
  {
   "cell_type": "code",
   "execution_count": 63,
   "metadata": {},
   "outputs": [
    {
     "name": "stdout",
     "output_type": "stream",
     "text": [
      "(6383, 41) Index(['FTR', 'FTHG-H', 'FTAG-H', 'FTR-H', 'HTHG-H', 'HTAG-H', 'HTR-H', 'HS-H',\n",
      "       'AS-H', 'HST-H', 'AST-H', 'HC-H', 'AC-H', 'HF-H', 'AF-H', 'HY-H',\n",
      "       'AY-H', 'HR-H', 'AR-H', 'FTHG-A', 'FTAG-A', 'FTR-A', 'HTHG-A', 'HTAG-A',\n",
      "       'HTR-A', 'HS-A', 'AS-A', 'HST-A', 'AST-A', 'HC-A', 'AC-A', 'HF-A',\n",
      "       'AF-A', 'HY-A', 'AY-A', 'HR-A', 'AR-A', 'HomeForm', 'AwayForm',\n",
      "       'PreviousEncounters', 'HomePreviousPosition', 'AwayPreviousPosition'],\n",
      "      dtype='object')\n"
     ]
    }
   ],
   "source": [
    "datapath='/Users/soni6/github/soccer-analytics/data/archive/Datasets'\n",
    "finalData=pd.read_csv(datapath+'/finalData.csv')\n",
    "# finalData=finalData[finalData['FTR']!=0]\n",
    "X=finalData.drop(columns=['FTR'])\n",
    "y=finalData['FTR']\n",
    "print(X.shape,finalData.columns)"
   ]
  },
  {
   "cell_type": "code",
   "execution_count": 64,
   "metadata": {},
   "outputs": [
    {
     "data": {
      "image/png": "[encoded data removed]",
      "text/plain": [
       "<Figure size 432x288 with 1 Axes>"
      ]
     },
     "metadata": {
      "needs_background": "light"
     },
     "output_type": "display_data"
    }
   ],
   "source": [
    "X_train, X_test, y_train, y_test = train_test_split(X, y, test_size=0.3, shuffle=True,\n",
    "                                                    random_state=1)\n",
    "pca = PCA()\n",
    "X_train_pca = pca.fit_transform(X_train)\n",
    "X_test_pca = pca.fit_transform(X_test)\n",
    "plt.bar(range(1, 42), pca.explained_variance_ratio_, alpha=0.5, align='center')\n",
    "# plt.step(range(1, 110), np.cumsum(pca.explained_variance_ratio_), where='mid')\n",
    "plt.ylabel('Explained variance ratio')\n",
    "plt.xlabel('Principal components')\n",
    "plt.show()"
   ]
  },
  {
   "cell_type": "markdown",
   "metadata": {},
   "source": [
    "## SVM"
   ]
  },
  {
   "cell_type": "code",
   "execution_count": 65,
   "metadata": {},
   "outputs": [
    {
     "name": "stdout",
     "output_type": "stream",
     "text": [
      "Testing set AUC 0.6640928634357363\n",
      "Training set AUC 0.7155212406522202\n"
     ]
    }
   ],
   "source": [
    "X_train, X_test, y_train, y_test = train_test_split(X, y, test_size=0.3, shuffle=True,\n",
    "                                                    random_state=1)\n",
    "# pca = PCA(n_components = 30)\n",
    "# X_train_pca = pca.fit_transform(X_train)\n",
    "# X_test_pca = pca.fit_transform(X_test)\n",
    "# comment below if without PCA\n",
    "# X_train=X_train_pca\n",
    "# X_test=X_test_pca\n",
    "\n",
    "svc=SVC(gamma='scale',C=10,kernel='poly')\n",
    "svc.fit(X_train,y_train)\n",
    "y_preds = svc.predict(X_test)\n",
    "fpr, tpr, thresholds = roc_curve(y_test, y_preds, pos_label=1)\n",
    "auc_roc = auc(fpr, tpr)\n",
    "print(\"Testing set AUC\",auc_roc)\n",
    "# y_preds = clfSV.best_estimator_.predict_proba(X_train).T[1]\n",
    "y_preds = svc.predict(X_train)\n",
    "fpr, tpr, thresholds = roc_curve(y_train, y_preds, pos_label=1)\n",
    "auc_roc = auc(fpr, tpr)\n",
    "print(\"Training set AUC\",auc_roc)"
   ]
  },
  {
   "cell_type": "code",
   "execution_count": 58,
   "metadata": {},
   "outputs": [
    {
     "name": "stdout",
     "output_type": "stream",
     "text": [
      "Testing set AUC 0.6542403490617648\n",
      "Training set AUC 0.684418252987061\n",
      "Time to train 58.61\n"
     ]
    }
   ],
   "source": [
    "model_to_set = OneVsRestClassifier(SVC(gamma='scale'))\n",
    "parameters = {\n",
    "    \"estimator__C\": [0.1,1,100],\n",
    "    \"estimator__kernel\": [\"poly\",\"rbf\"],\n",
    "}\n",
    "t1=time.time()\n",
    "clfSV = GridSearchCV(model_to_set,cv=3, param_grid=parameters)\n",
    "\n",
    "clfSV.fit(X_train,y_train)\n",
    "y_preds = clfSV.predict(X_test)\n",
    "fpr, tpr, thresholds = roc_curve(y_test, y_preds, pos_label=1)\n",
    "auc_roc = auc(fpr, tpr)\n",
    "print(\"Testing set AUC\",auc_roc)\n",
    "# y_preds = clfSV.best_estimator_.predict_proba(X_train).T[1]\n",
    "y_preds = clfSV.predict(X_train)\n",
    "fpr, tpr, thresholds = roc_curve(y_train, y_preds, pos_label=1)\n",
    "auc_roc = auc(fpr, tpr)\n",
    "print(\"Training set AUC\",auc_roc)\n",
    "t2=time.time()\n",
    "print(\"Time to train\", round(t2-t1,2))"
   ]
  },
  {
   "cell_type": "markdown",
   "metadata": {},
   "source": [
    "## k-means"
   ]
  },
  {
   "cell_type": "code",
   "execution_count": 16,
   "metadata": {},
   "outputs": [],
   "source": []
  },
  {
   "cell_type": "code",
   "execution_count": null,
   "metadata": {},
   "outputs": [],
   "source": []
  }
 ],
 "metadata": {
  "kernelspec": {
   "display_name": "Python 3",
   "language": "python",
   "name": "python3"
  },
  "language_info": {
   "codemirror_mode": {
    "name": "ipython",
    "version": 3
   },
   "file_extension": ".py",
   "mimetype": "text/x-python",
   "name": "python",
   "nbconvert_exporter": "python",
   "pygments_lexer": "ipython3",
   "version": "3.7.4"
  }
 },
 "nbformat": 4,
 "nbformat_minor": 4
}
