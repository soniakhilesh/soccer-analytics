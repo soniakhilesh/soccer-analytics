{
 "cells": [
  {
   "cell_type": "code",
   "execution_count": 28,
   "metadata": {},
   "outputs": [],
   "source": [
    "# import libraries\n",
    "import pandas as pd\n",
    "import numpy as np\n",
    "import math"
   ]
  },
  {
   "cell_type": "markdown",
   "metadata": {},
   "source": [
    "### Read raw data and aggregate"
   ]
  },
  {
   "cell_type": "code",
   "execution_count": 66,
   "metadata": {},
   "outputs": [],
   "source": [
    "# read data\n",
    "datapath='/Users/soni6/github/soccer-analytics/data/archive/Datasets'\n",
    "# final_dataset=pd.read_csv(datapath+'/final_dataset.csv')\n",
    "stats = ['FTHG','FTAG','FTR','HTHG','HTAG','HTR','HS','AS','HST','AST',\n",
    "                                       'HC','AC','HF','AF','HY','AY','HR','AR']\n",
    "attributes = ['Date','HomeTeam','AwayTeam']\n",
    "all_seasons_data=pd.DataFrame(columns=attributes+stats)\n",
    "# seasons 2010-2020\n",
    "for i in range(10,20):\n",
    "    dataseason=pd.read_csv(datapath+'/20{}-{}.csv'.format(i,i+1))\n",
    "    dataseason=dataseason[dataseason['Div']=='E0']\n",
    "    all_seasons_data = pd.concat([all_seasons_data,dataseason], axis=0, join='inner',ignore_index=True)\n",
    "#seasons 2000-2009\n",
    "for i in range(0,9):\n",
    "    dataseason=pd.read_csv(datapath+'/200{}-0{}.csv'.format(i,i+1))\n",
    "    dataseason=dataseason[dataseason['Div']=='E0']\n",
    "    all_seasons_data = pd.concat([all_seasons_data,dataseason], axis=0, join='inner',ignore_index=True)\n",
    "#season 2009-2010\n",
    "dataseason=pd.read_csv(datapath+'/2009-10.csv')\n",
    "dataseason=dataseason[dataseason['Div']=='E0']\n",
    "all_seasons_data = pd.concat([all_seasons_data,dataseason], axis=0, join='inner',ignore_index=True)\n",
    "all_seasons_data['Date']= pd.to_datetime(all_seasons_data['Date']) \n",
    "#season rankings\n",
    "standings = pd.read_csv(datapath+'/EPLStandings.csv')\n",
    "# standings=standings.fillna(30)"
   ]
  },
  {
   "cell_type": "markdown",
   "metadata": {},
   "source": [
    "### Columns Description\n",
    "Date = Match Date (dd/mm/yy)\\\n",
    "HomeTeam = Home Team\\\n",
    "AwayTeam = Away Team\\\n",
    "FTHG = Full Time Home Team Goals\\\n",
    "FTAG = Full Time Away Team Goals\\\n",
    "FTR = Full Time Result (H=Home Win, D=Draw, A=Away Win)\\\n",
    "HTHG = Half Time Home Team Goals\\\n",
    "HTAG = Half Time Away Team Goals\\\n",
    "HTR = Half Time Result (H=Home Win, D=Draw, A=Away Win)\\\n",
    "HS = Home Team Shots\\\n",
    "AS = Away Team Shots\\\n",
    "HST = Home Team Shots on Target\\\n",
    "AST = Away Team Shots on Target\\\n",
    "HHW = Home Team Hit Woodwork\\\n",
    "AHW = Away Team Hit Woodwork\\\n",
    "HC = Home Team Corners\\\n",
    "AC = Away Team Corners\\\n",
    "HF = Home Team Fouls Committed\\\n",
    "AF = Away Team Fouls Committed\\\n",
    "HY = Home Team Yellow Cards\\\n",
    "AY = Away Team Yellow Cards\\\n",
    "HR = Home Team Red Cards\\\n",
    "AR = Away Team Red Cards\\"
   ]
  },
  {
   "cell_type": "code",
   "execution_count": 67,
   "metadata": {},
   "outputs": [
    {
     "name": "stdout",
     "output_type": "stream",
     "text": [
      "Column   No. of Null Vals\n"
     ]
    },
    {
     "data": {
      "text/plain": [
       "Date        0\n",
       "HomeTeam    0\n",
       "AwayTeam    0\n",
       "FTHG        0\n",
       "FTAG        0\n",
       "FTR         0\n",
       "HTHG        0\n",
       "HTAG        0\n",
       "HTR         0\n",
       "HS          0\n",
       "AS          0\n",
       "HST         0\n",
       "AST         0\n",
       "HC          0\n",
       "AC          0\n",
       "HF          0\n",
       "AF          0\n",
       "HY          0\n",
       "AY          0\n",
       "HR          0\n",
       "AR          0\n",
       "dtype: int64"
      ]
     },
     "execution_count": 67,
     "metadata": {},
     "output_type": "execute_result"
    }
   ],
   "source": [
    "# check for null values in each column\n",
    "print('Column','  No. of Null Vals')\n",
    "all_seasons_data.isnull().sum()"
   ]
  },
  {
   "cell_type": "markdown",
   "metadata": {},
   "source": [
    "### Feature Engineering\n",
    "Next we create some important feature in order to capture useful information about team's performance in recent matches."
   ]
  },
  {
   "cell_type": "code",
   "execution_count": 68,
   "metadata": {},
   "outputs": [
    {
     "name": "stdout",
     "output_type": "stream",
     "text": [
      "['Aston Villa' 'Blackburn' 'Bolton' 'Chelsea' 'Sunderland' 'Tottenham'\n",
      " 'Wigan' 'Wolves' 'Liverpool' 'Man United' 'Arsenal' 'Birmingham'\n",
      " 'Everton' 'Stoke' 'West Brom' 'West Ham' 'Fulham' 'Newcastle' 'Man City'\n",
      " 'Blackpool' 'QPR' 'Swansea' 'Norwich' 'Reading' 'Southampton'\n",
      " 'Crystal Palace' 'Hull' 'Cardiff' 'Leicester' 'Burnley' 'Bournemouth'\n",
      " 'Watford' 'Middlesbrough' 'Brighton' 'Huddersfield' 'Sheffield United'\n",
      " 'Charlton' 'Coventry' 'Derby' 'Leeds' 'Bradford' 'Ipswich' 'Middlesboro'\n",
      " 'Portsmouth']\n",
      "Number of teams= 44\n"
     ]
    }
   ],
   "source": [
    "teams=all_seasons_data['HomeTeam'].unique()\n",
    "print(teams)\n",
    "print(\"Number of teams=\", teams.size)"
   ]
  },
  {
   "cell_type": "markdown",
   "metadata": {},
   "source": [
    "We observe that there are 44 unique teams. Although, there are 20 teams which play the league each year, each season few teams move to relegation zone and are disqualified from playing the league and some new teams enter the league.\n",
    "\n",
    "Next we create some useful insights using the existing features. In particular we create following features.\n",
    "* Performance in last 3 home matches of home team\n",
    "* Performance in last 3 away matches of away team\n",
    "* Overall head to head performance\n",
    "* Standing of home and away team in previous seasons\n"
   ]
  },
  {
   "cell_type": "code",
   "execution_count": 90,
   "metadata": {},
   "outputs": [],
   "source": [
    "# some helper functions which will be used later\n",
    "# all_seasons_data and standings required\n",
    "def get_previous_match_stats(team: str,date: pd.datetime,num_prev_matches:int,venue:str):\n",
    "    \"\"\"\n",
    "    home or away specific\n",
    "    :param team-Name of team\n",
    "    :param date-\n",
    "    :param num_prev_matches-\n",
    "    :param venue-Home or Away\n",
    "    Eg. team_data=get_previous_match_stats('Leeds',pd.to_datetime('2001-01-01'),5,'Home')\n",
    "    \"\"\"\n",
    "    team_data = all_seasons_data[all_seasons_data[venue+'Team']==team]\n",
    "    team_data = team_data.sort_values(by='Date')\n",
    "    team_data = team_data [team_data['Date']<date]\n",
    "    team_data = team_data.tail(num_prev_matches)\n",
    "    team_data = team_data.iloc[:,3:]\n",
    "    return team_data.mean(axis=0,skipna=True)\n",
    "\n",
    "def get_previous_encouters_stats(x):\n",
    "    \"\"\"\n",
    "    get average of all previous meets on the given venue\n",
    "    \"\"\"\n",
    "    homeTeam=x.HomeTeam\n",
    "    awayTeam=x.AwayTeam\n",
    "    prev_encounters = all_seasons_data[(all_seasons_data['HomeTeam']== homeTeam) & (all_seasons_data['AwayTeam']== awayTeam) ]\n",
    "    default=True\n",
    "    w,d,l=0.5,0.5,0.5\n",
    "    results = prev_encounters['FTR'].value_counts()\n",
    "    if 1 in list(results.index):\n",
    "        w=results[1]\n",
    "        default = False\n",
    "    if 0 in list(results.index):\n",
    "        d=results[0]\n",
    "        default = False\n",
    "    if -1 in list(results.index):\n",
    "        l=results[-1]\n",
    "        default = False\n",
    "    if default==True:\n",
    "        net_chances=0\n",
    "    else:\n",
    "        net_chances = (1*w+0*d-1*l)/results.shape[0]\n",
    "    return net_chances\n",
    "\n",
    "def get_last_season_year(x):\n",
    "    \"\"\"\n",
    "    :param x: row of dataframe\n",
    "    season year for season 2009-2010 is 2010\n",
    "    \"\"\"\n",
    "    x['Date']= pd.to_datetime(x['Date']) \n",
    "    month = x['Date'].month\n",
    "    year = x['Date'].year\n",
    "    last_season = year\n",
    "    if 7 < month <= 12:\n",
    "        last_year = year\n",
    "    else:\n",
    "        last_year = year-1\n",
    "    return last_year\n",
    "\n",
    "def get_previous_year_position(x, home=True):\n",
    "    last_year =x.LastYear\n",
    "    try:\n",
    "        if home==True:\n",
    "            last_season_position = standings[standings['Team']==x['HomeTeam']].iloc[0][str(int(last_year))]\n",
    "        if home==False:\n",
    "            last_season_position = standings[standings['Team']==x['AwayTeam']].iloc[0][str(int(last_year))]\n",
    "    except:\n",
    "        # position not available in table as team did not play in last league\n",
    "        pass\n",
    "    return last_season_position\n",
    "\n",
    "def result_to_score(x,time='full'):\n",
    "    \"\"\"\n",
    "    Convert Win,Draw, Loss to numeric features\n",
    "    W: +1, Home team win\n",
    "    L: -1, Home temam lost\n",
    "    D: 0, Match draw\n",
    "    :param: time= full or half\n",
    "    \"\"\"\n",
    "    if time=='full':\n",
    "        if x['FTR']=='H':\n",
    "            score = 1\n",
    "        elif x['FTR']=='A':\n",
    "            score=-1\n",
    "        else:\n",
    "            score=0\n",
    "    if time=='half':\n",
    "        if x['HTR']=='H':\n",
    "            score = 1\n",
    "        elif x['HTR']=='A':\n",
    "            score=-1\n",
    "        else:\n",
    "            score=0\n",
    "    return score\n",
    "\n",
    "def get_form_factor(x,team, num_matches=5):\n",
    "    \"\"\"\n",
    "    get recent form irrespective of home or away\n",
    "    :param x- row of dataframe\n",
    "    :param num_matches- number of matches to consider to calculate form, default 10\n",
    "    :param team: home or away\n",
    "    return: current form of the team over last\n",
    "    \"\"\"\n",
    "    if team == \"home\":\n",
    "        team = x.HomeTeam\n",
    "    elif team == \"away\":\n",
    "        team = x.AwayTeam\n",
    "    else:\n",
    "        raise Exception(\"Incorrect team specified: should be home or away\")\n",
    "    x['Date']= pd.to_datetime(x['Date']) \n",
    "    team_data_home = all_seasons_data[all_seasons_data['HomeTeam']==team]\n",
    "    team_data_away = all_seasons_data[all_seasons_data['AwayTeam']==team]\n",
    "    team_data = pd.concat([team_data_home,team_data_away])\n",
    "    team_data = team_data.sort_values(by='Date')\n",
    "    team_data = team_data [team_data['Date']<x['Date']]\n",
    "    team_data = team_data.tail(num_matches)\n",
    "    alpha = 0.6\n",
    "    # calculate exponential form function\n",
    "    form = 0\n",
    "    if team_data.shape[0]>0:\n",
    "        for i in range(min(team_data.shape[0],num_matches)):\n",
    "            row = team_data.iloc[i]\n",
    "            if team == row.HomeTeam:\n",
    "                shots = row['HST']\n",
    "            if team == row.AwayTeam:\n",
    "                shots = row['AST']   \n",
    "            form = form + shots*math.e ** (-1 * (alpha * i)) \n",
    "    return form"
   ]
  },
  {
   "cell_type": "markdown",
   "metadata": {},
   "source": [
    "### Convert match results to labels and get average performance of home and away teams over last 3 matches at home and away venues respectively"
   ]
  },
  {
   "cell_type": "code",
   "execution_count": 70,
   "metadata": {
    "scrolled": true
   },
   "outputs": [],
   "source": [
    "# convert results to labels\n",
    "all_seasons_data['FTR']=all_seasons_data.apply(lambda x: result_to_score(x,time='full'),axis=1)\n",
    "all_seasons_data['HTR']=all_seasons_data.apply(lambda x: result_to_score(x,time='half'),axis=1)"
   ]
  },
  {
   "cell_type": "code",
   "execution_count": 71,
   "metadata": {
    "scrolled": true
   },
   "outputs": [],
   "source": [
    "# get average performance over 3 matches\n",
    "get_previous_stats = True\n",
    "if get_previous_stats==True:\n",
    "    all_seasons_data['Date']= pd.to_datetime(all_seasons_data['Date']) \n",
    "    num_prev_matches = 3\n",
    "    p_1 = [stat + \"-H\" for stat in stats] #Home match stats\n",
    "    p_4 = [stat + \"-A\" for stat in stats] #away match stats\n",
    "    previous_stats_data=pd.DataFrame(index=np.arange(0, all_seasons_data.shape[0]),columns=attributes+['FTR']+p_1+p_4)\n",
    "    error_index=[]\n",
    "    for index,row in all_seasons_data.iterrows():\n",
    "        prev_home_data=get_previous_match_stats(row.HomeTeam,row.Date,num_prev_matches,'Home')\n",
    "        prev_away_data=get_previous_match_stats(row.AwayTeam,row.Date,num_prev_matches,'Away')\n",
    "        try:\n",
    "            previous_stats_data.iloc[index] = [row.Date,row.HomeTeam,row.AwayTeam,row['FTR']] \\\n",
    "            + list(prev_home_data)+ list(prev_away_data)\n",
    "        except:\n",
    "            # there aren't enough matches to look back into past\n",
    "            error_index.append(index)\n",
    "    "
   ]
  },
  {
   "cell_type": "markdown",
   "metadata": {},
   "source": [
    "### Get recent form\n",
    "We use shots on targets over the last 5 matches as the measure of form"
   ]
  },
  {
   "cell_type": "code",
   "execution_count": 72,
   "metadata": {},
   "outputs": [],
   "source": [
    "previous_stats_data['HomeForm'] = previous_stats_data.apply(lambda x:get_form_factor(x,team='home'),axis=1 )\n",
    "previous_stats_data['AwayForm'] = previous_stats_data.apply(lambda x:get_form_factor(x,team='away'),axis=1 )"
   ]
  },
  {
   "cell_type": "markdown",
   "metadata": {},
   "source": [
    "### Get previous encounters\n",
    "\n",
    "Assign a score on scale of -1 to 1 which accounts for all previous meetings on the given venue"
   ]
  },
  {
   "cell_type": "code",
   "execution_count": 73,
   "metadata": {},
   "outputs": [],
   "source": [
    "# get a probability of home team winning or away team winning\n",
    "previous_stats_data['PreviousEncounters']=previous_stats_data.apply(lambda x: get_previous_encouters_stats(x),axis=1)"
   ]
  },
  {
   "cell_type": "markdown",
   "metadata": {},
   "source": [
    "### Merge Previous seasons standings if available\n"
   ]
  },
  {
   "cell_type": "code",
   "execution_count": 74,
   "metadata": {},
   "outputs": [],
   "source": [
    "# get previous year\n",
    "previous_stats_data['LastYear']=previous_stats_data.apply(lambda x: get_last_season_year(x),axis=1)\n",
    "previous_stats_data =previous_stats_data[previous_stats_data['LastYear']<=2016]"
   ]
  },
  {
   "cell_type": "code",
   "execution_count": 79,
   "metadata": {
    "scrolled": true
   },
   "outputs": [],
   "source": [
    "# get previous standings\n",
    "\n",
    "previous_stats_data['HomePreviousPosition']=previous_stats_data.apply(lambda x: get_previous_year_position(x,home=True),axis=1)\n",
    "previous_stats_data['AwayPreviousPosition']=previous_stats_data.apply(lambda x: get_previous_year_position(x,home=False),axis=1)\n",
    "# if position not found, assign a position of 30\n",
    "previous_stats_data['HomePreviousPosition']=previous_stats_data['HomePreviousPosition'].fillna(30)\n",
    "previous_stats_data['AwayPreviousPosition']=previous_stats_data['AwayPreviousPosition'].fillna(30)"
   ]
  },
  {
   "cell_type": "code",
   "execution_count": null,
   "metadata": {},
   "outputs": [],
   "source": [
    "# check for null values in each column\n",
    "print('Column','  No. of Null Vals')\n",
    "previous_stats_data.isnull().sum()\n"
   ]
  },
  {
   "cell_type": "code",
   "execution_count": 94,
   "metadata": {},
   "outputs": [
    {
     "name": "stdout",
     "output_type": "stream",
     "text": [
      "['Date', 'HomeTeam', 'AwayTeam', 'FTR', 'FTHG-H', 'FTAG-H', 'FTR-H', 'HTHG-H', 'HTAG-H', 'HTR-H', 'HS-H', 'AS-H', 'HST-H', 'AST-H', 'HC-H', 'AC-H', 'HF-H', 'AF-H', 'HY-H', 'AY-H', 'HR-H', 'AR-H', 'FTHG-A', 'FTAG-A', 'FTR-A', 'HTHG-A', 'HTAG-A', 'HTR-A', 'HS-A', 'AS-A', 'HST-A', 'AST-A', 'HC-A', 'AC-A', 'HF-A', 'AF-A', 'HY-A', 'AY-A', 'HR-A', 'AR-A', 'HomeForm', 'AwayForm', 'PreviousEncounters', 'LastYear', 'HomePreviousPosition', 'AwayPreviousPosition']\n"
     ]
    }
   ],
   "source": [
    "# drop nan rows\n",
    "X=previous_stats_data.dropna()\n",
    "print(list(X.columns))"
   ]
  },
  {
   "cell_type": "code",
   "execution_count": 95,
   "metadata": {},
   "outputs": [],
   "source": [
    "finalData=X.drop(columns=['Date','HomeTeam','AwayTeam','LastYear'])\n",
    "finalData.to_csv(datapath+'/finalData.csv',index=False)"
   ]
  },
  {
   "cell_type": "markdown",
   "metadata": {},
   "source": [
    "$Form=\\sum_{i=1}^5Shots*(\\exp^{-\\alpha*i})$\n"
   ]
  },
  {
   "cell_type": "markdown",
   "metadata": {},
   "source": [
    "Rob meeting: earn parameters for the form. treat it like. trianing problem\n",
    "Compare with betting sites"
   ]
  },
  {
   "cell_type": "code",
   "execution_count": null,
   "metadata": {},
   "outputs": [],
   "source": []
  },
  {
   "cell_type": "code",
   "execution_count": null,
   "metadata": {},
   "outputs": [],
   "source": []
  },
  {
   "cell_type": "code",
   "execution_count": null,
   "metadata": {},
   "outputs": [],
   "source": []
  },
  {
   "cell_type": "code",
   "execution_count": null,
   "metadata": {},
   "outputs": [],
   "source": []
  },
  {
   "cell_type": "code",
   "execution_count": null,
   "metadata": {},
   "outputs": [],
   "source": []
  }
 ],
 "metadata": {
  "kernelspec": {
   "display_name": "Python 3",
   "language": "python",
   "name": "python3"
  },
  "language_info": {
   "codemirror_mode": {
    "name": "ipython",
    "version": 3
   },
   "file_extension": ".py",
   "mimetype": "text/x-python",
   "name": "python",
   "nbconvert_exporter": "python",
   "pygments_lexer": "ipython3",
   "version": "3.7.4"
  }
 },
 "nbformat": 4,
 "nbformat_minor": 4
}
